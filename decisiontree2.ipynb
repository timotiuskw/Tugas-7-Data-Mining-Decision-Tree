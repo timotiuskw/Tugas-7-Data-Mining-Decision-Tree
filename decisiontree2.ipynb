{
 "cells": [
  {
   "cell_type": "code",
   "execution_count": 3,
   "metadata": {},
   "outputs": [],
   "source": [
    "import numpy as np\n",
    "import pandas as pd\n",
    "from sklearn import tree\n",
    "\n",
    "irisDataset = pd.read_csv('./Dataset Iris.csv', delimiter=';', header=0)\n",
    "irisDataset[\"Species\"] = pd.factorize(irisDataset.Species)[0]\n",
    "irisDataset = irisDataset.drop(labels=\"Id\", axis=1)\n",
    "irisDataset = irisDataset.to_numpy()"
   ]
  },
  {
   "cell_type": "code",
   "execution_count": 4,
   "metadata": {},
   "outputs": [],
   "source": [
    "dataTraining = np.concatenate((irisDataset[0:40,:],irisDataset[50:90,:]), axis=0)\n",
    "dataTesting = np.concatenate((irisDataset[40:50,:],irisDataset[90:100,:]), axis=0)\n",
    "\n",
    "inputTraining = dataTraining[:, 0:4]\n",
    "inputTesting = dataTesting[:, 0:4]\n",
    "labelTraining = dataTraining[:, 4]\n",
    "labelTesting = dataTesting[:, 4]"
   ]
  },
  {
   "cell_type": "code",
   "execution_count": 5,
   "metadata": {},
   "outputs": [
    {
     "name": "stdout",
     "output_type": "stream",
     "text": [
      "Label Sebenarnya :  [0. 0. 0. 0. 0. 0. 0. 0. 0. 0. 1. 1. 1. 1. 1. 1. 1. 1. 1. 1.]\n",
      "Hasil Prediksi :  [0. 0. 0. 0. 0. 0. 0. 0. 0. 0. 1. 1. 1. 1. 1. 1. 1. 1. 1. 1.]\n",
      "Prediksi Benar :  20  data\n",
      "Prediksi Salah :  0  data\n",
      "Akurasi :  100.0 %\n"
     ]
    }
   ],
   "source": [
    "model = tree.DecisionTreeClassifier()\n",
    "model = model.fit(inputTraining, labelTraining)\n",
    "hasilPrediksi = model.predict(inputTesting)\n",
    "\n",
    "print(\"Label Sebenarnya : \", labelTesting)\n",
    "print(\"Hasil Prediksi : \", hasilPrediksi)\n",
    "\n",
    "prediksiBenar = (hasilPrediksi == labelTesting).sum()\n",
    "prediksiSalah = (hasilPrediksi != labelTesting).sum()\n",
    "print(\"Prediksi Benar : \", prediksiBenar, \" data\")\n",
    "print(\"Prediksi Salah : \", prediksiSalah, \" data\")\n",
    "print(\"Akurasi : \", prediksiBenar/(prediksiBenar+prediksiSalah)*100, \"%\")"
   ]
  }
 ],
 "metadata": {
  "kernelspec": {
   "display_name": "base",
   "language": "python",
   "name": "python3"
  },
  "language_info": {
   "codemirror_mode": {
    "name": "ipython",
    "version": 3
   },
   "file_extension": ".py",
   "mimetype": "text/x-python",
   "name": "python",
   "nbconvert_exporter": "python",
   "pygments_lexer": "ipython3",
   "version": "3.11.5"
  }
 },
 "nbformat": 4,
 "nbformat_minor": 2
}
